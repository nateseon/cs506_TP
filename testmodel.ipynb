{
 "cells": [
  {
   "cell_type": "code",
   "execution_count": null,
   "id": "c41acd32",
   "metadata": {},
   "outputs": [
    {
     "name": "stdout",
     "output_type": "stream",
     "text": [
      "Loaded Model Prediction: Not Approved\n"
     ]
    }
   ],
   "source": [
    "# Load all components (model, scaler, PCA, KMeans)\n",
    "import pickle\n",
    "import pandas as pd\n",
    "with open(\"loan_model_bundle.pkl\", \"rb\") as f:\n",
    "    loaded_bundle = pickle.load(f)\n",
    "\n",
    "loaded_model = loaded_bundle[\"xgb_model\"]\n",
    "loaded_scaler = loaded_bundle[\"scaler\"]\n",
    "loaded_pca = loaded_bundle[\"pca\"]\n",
    "loaded_kmeans = loaded_bundle[\"kmeans\"]\n",
    "\n",
    "# Create a dictionary with the required input fields\n",
    "#Based on the feature importance we change the input and test\n",
    "#Try predictions on edge cases: low income + high loan, poor CIBIL, etc., to see if model behaves as expected.\n",
    "sample_input = {\n",
    "    'no_of_dependents': 1,\n",
    "    'education': 0,  # Assuming 0 = Graduate, 1 = Not Graduate (or similar encoding)\n",
    "    'self_employed': 0,\n",
    "    'income_annum': 900000,\n",
    "    'loan_amount': 190000,\n",
    "    'loan_term': 360,\n",
    "    'cibil_score': 950,\n",
    "    'residential_assets_value': 300000,\n",
    "    'commercial_assets_value': 0,\n",
    "    'luxury_assets_value': 0,\n",
    "    'bank_asset_value': 100000\n",
    "}\n",
    "\n",
    "# Convert to a DataFrame (model expects the same structure as X_test)\n",
    "sample_df = pd.DataFrame([sample_input])\n",
    "\n",
    "# Example: Reuse loaded model\n",
    "new_prediction = loaded_model.predict(sample_df)\n",
    "print(\"Loaded Model Prediction:\", \"Approved\" if new_prediction[0] == 1 else \"Not Approved\")\n"
   ]
  }
 ],
 "metadata": {
  "kernelspec": {
   "display_name": "Python 3",
   "language": "python",
   "name": "python3"
  },
  "language_info": {
   "codemirror_mode": {
    "name": "ipython",
    "version": 3
   },
   "file_extension": ".py",
   "mimetype": "text/x-python",
   "name": "python",
   "nbconvert_exporter": "python",
   "pygments_lexer": "ipython3",
   "version": "3.12.7"
  }
 },
 "nbformat": 4,
 "nbformat_minor": 5
}
